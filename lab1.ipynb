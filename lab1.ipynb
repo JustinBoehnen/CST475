{
  "nbformat": 4,
  "nbformat_minor": 0,
  "metadata": {
    "colab": {
      "name": "lab1.ipynb",
      "provenance": [],
      "collapsed_sections": []
    },
    "kernelspec": {
      "name": "python3",
      "display_name": "Python 3"
    }
  },
  "cells": [
    {
      "cell_type": "markdown",
      "metadata": {
        "id": "Wwu8BHDsYU-I"
      },
      "source": [
        "<B> Preface </B><BR>\n",
        "Welcome to Data Science!\n",
        "\n",
        "In science, replication is important. Notebooks are records that scientists keep, so that they can replicate their experiments. Traditionally, scientific notebooks held both methodology/procedural notes, as well as data notes. The methodology notes showed how to do a procedure on the data. The data showed the results that the scientist obtained by doing the procedure. \n",
        "<P>\n",
        "Data scientists also often keep notebooks with their work, but data scientists typically use digital data and Jupyter notebooks. Jupyter notebooks are a way to combine English text and code in a single file. The English text can communicate to a human being what the purpose of the experiment is while the code can communicate to a machine how to analyze the data in a specific way. Jupyter notebooks require that the programming language supports Read-Eval-Print-Loops(REPL). Initially, Jupyter notebooks were most popularly implemented in Python, which partially explains the spelling of Jupyter. Sometimes, they are stored with an ipynb file extension which probably stands for Interactive PYthon NoteBook. \n",
        "<P>\n",
        "In this class, we will store our work in Jupyter notebooks that use Python; specifically, we will use Google colab Jupyter notebooks, and you will need to share the notebooks with anyone who has a link and submit a link for each assignment on Canvas.\n",
        "<P>\n",
        "Data scientists often use Jupyter notebooks and Python code to share their work.  In this lab, you will practice writing Python functions or methods and using a Jupyter notebook.  You will submit the URL for your notebook in Canvas.  For each problem, you should write a function and write at least 1 test case, the test case given.  You can create additional blocks of code for additional test cases if you wish. When the problem specifies a sequence of something, most of the time a list will be the most appropriate data structure, but you may use another data structure if you wish, if you can justify it(please put justifications in a text block beneath your code).  You should leverage the functional programming paradigm and map, reduce, and filter as much as possible.  You may reuse these functions on later assignments."
      ]
    },
    {
      "cell_type": "markdown",
      "source": [
        "<B>Problem 0: Sum of Two Numbers</B><BR>\n",
        "Write a function that takes as input two numbers then computes their sum, e.g. 6 and 7 as input have a sum of 13."
      ],
      "metadata": {
        "id": "4KeRQIgD6Wex"
      }
    },
    {
      "cell_type": "code",
      "source": [
        "# A demo function to demonstrate the sum of two numbers.\n",
        "def sumNums(a,b):\n",
        "  return a+b\n",
        "sumNums(6,7)"
      ],
      "metadata": {
        "colab": {
          "base_uri": "https://localhost:8080/"
        },
        "id": "-rkmrk7t61c7",
        "outputId": "62f451cc-33e4-462d-8a39-d6fc921ca5cb"
      },
      "execution_count": null,
      "outputs": [
        {
          "output_type": "execute_result",
          "data": {
            "text/plain": [
              "13"
            ]
          },
          "metadata": {},
          "execution_count": 3
        }
      ]
    },
    {
      "cell_type": "markdown",
      "metadata": {
        "id": "1nsXnUD9SUZg"
      },
      "source": [
        "<B>Problem 1: Hypoteneuse of a Triangle</B><BR>\n",
        "Write a function that takes as input the base and height of a right triangle and then computes the hypoteneuse as output, e.g. 3 and 4 as legs have a hypoteneuse as 5.\n"
      ]
    },
    {
      "cell_type": "code",
      "metadata": {
        "id": "vGpLTCuXSltL",
        "outputId": "a7fd17a7-918d-47b2-b878-e82573645b06",
        "colab": {
          "base_uri": "https://localhost:8080/"
        }
      },
      "source": [
        "import math\n",
        "def hypotenuse(a,b):\n",
        "  return math.sqrt((a**2)+(b**2))\n",
        "hypotenuse(3,4)"
      ],
      "execution_count": null,
      "outputs": [
        {
          "output_type": "execute_result",
          "data": {
            "text/plain": [
              "5.0"
            ]
          },
          "metadata": {},
          "execution_count": 3
        }
      ]
    },
    {
      "cell_type": "markdown",
      "metadata": {
        "id": "N09IgGWPSmN1"
      },
      "source": [
        "<B>Problem 2: Dot Product</B><BR>\n",
        "Write a function that takes as input two sequences of numbers and then computes their dot product, e.g. [1,2,3], [1,2,3] produces 14. \n"
      ]
    },
    {
      "cell_type": "code",
      "metadata": {
        "id": "t31VWV7jTDil",
        "colab": {
          "base_uri": "https://localhost:8080/"
        },
        "outputId": "9ab7488e-1fd4-429e-c51f-68e84b2086f2"
      },
      "source": [
        "from functools import reduce\n",
        "def dotProduct(l1, l2):\n",
        "  return sum(list(map(lambda x, y: x * y, l1, l2)))\n",
        "\n",
        "dotProduct([1,2,3],[1,2,3])"
      ],
      "execution_count": null,
      "outputs": [
        {
          "output_type": "execute_result",
          "data": {
            "text/plain": [
              "14"
            ]
          },
          "metadata": {},
          "execution_count": 2
        }
      ]
    },
    {
      "cell_type": "markdown",
      "metadata": {
        "id": "dJUK5yBGTD1p"
      },
      "source": [
        "<B>Problem 3: Double Sequence</B><BR>\n",
        "Write a function that takes as input a sequence of numbers and then computes that sequence doubled, e.g. [1,2,3] produces [2,4,6]. "
      ]
    },
    {
      "cell_type": "code",
      "metadata": {
        "id": "0Ol9NoyYTTrs",
        "outputId": "831fe3c3-1c19-4c8b-81ff-4b42a458432e",
        "colab": {
          "base_uri": "https://localhost:8080/"
        }
      },
      "source": [
        "test = [1,2,3]\n",
        "def dblSeq(a):\n",
        "  return list(map(lambda x: x + x, a))\n",
        "dblSeq(test)"
      ],
      "execution_count": null,
      "outputs": [
        {
          "output_type": "execute_result",
          "data": {
            "text/plain": [
              "[2, 4, 6]"
            ]
          },
          "metadata": {},
          "execution_count": 6
        }
      ]
    },
    {
      "cell_type": "markdown",
      "metadata": {
        "id": "81DCKvWRTUN6"
      },
      "source": [
        "<B>Problem 4: Remove Duplicates</B><BR>\n",
        "Write a function that takes as input a sequence of variables and then computes a sequence with any duplicates in the original sequence removed, e.g. [1,1,2,1,3] produces [1,2,3].\n"
      ]
    },
    {
      "cell_type": "code",
      "metadata": {
        "id": "qQn7VehHUb0j",
        "outputId": "34ce2657-cdd0-407e-d579-aae34ee68a60",
        "colab": {
          "base_uri": "https://localhost:8080/"
        }
      },
      "source": [
        "test = [1,1,2,1,3,3,4,5,6,4]\n",
        "def removeDupes(a):\n",
        "  return list(set(a))\n",
        "removeDupes(test)"
      ],
      "execution_count": null,
      "outputs": [
        {
          "output_type": "execute_result",
          "data": {
            "text/plain": [
              "[1, 2, 3, 4, 5, 6]"
            ]
          },
          "metadata": {},
          "execution_count": 87
        }
      ]
    },
    {
      "cell_type": "markdown",
      "metadata": {
        "id": "TQeKGK6wUcTv"
      },
      "source": [
        "<B>Problem 5: Translation</B><BR>\n",
        "Write a function that takes as input a string (such as \"two one three five four\")  and then returns that sequence of words translated into a language of your choice- you must have at least 5 unique words, and the user must be able to use them in any order and in a string with up to 10 words.  You may use Google translate if you do not know another human langauge besides English.\n"
      ]
    },
    {
      "cell_type": "code",
      "metadata": {
        "id": "POBtvreWU6tE",
        "outputId": "918d30b6-cb70-4058-c26a-7567adbb5e93",
        "colab": {
          "base_uri": "https://localhost:8080/"
        }
      },
      "source": [
        "test = \"two one three five four\"\n",
        "def translateEnglishNumeralsToSpanish(a):\n",
        "  EnglishToSpanishNumerals = {\n",
        "  \"one\": \"uno\",\n",
        "  \"two\": \"dos\",\n",
        "  \"three\": \"tres\",\n",
        "  \"four\": \"cuatro\",\n",
        "  \"five\": \"cinco\"\n",
        "  }\n",
        "  english = a.split()\n",
        "  return list(map(lambda x: EnglishToSpanishNumerals[x], english))\n",
        "translateEnglishNumeralsToSpanish(test)"
      ],
      "execution_count": null,
      "outputs": [
        {
          "output_type": "execute_result",
          "data": {
            "text/plain": [
              "['dos', 'uno', 'tres', 'cinco', 'cuatro']"
            ]
          },
          "metadata": {},
          "execution_count": 28
        }
      ]
    },
    {
      "cell_type": "markdown",
      "metadata": {
        "id": "ViMK5OvWU7CS"
      },
      "source": [
        "<B>Problem 6: Count Articles</B><BR>\n",
        "Write a function that takes as input a string and then produces as output a count of the words that are articles(a, an, the), e.g. \"The bug is on a log in an orchard.\" returns 3. "
      ]
    },
    {
      "cell_type": "code",
      "metadata": {
        "id": "YNEamGhaVRAm",
        "outputId": "39c4dedb-9656-4bfa-cb9c-ebe0722a00eb",
        "colab": {
          "base_uri": "https://localhost:8080/"
        }
      },
      "source": [
        "test = \"The bug is on a log in an orchard.\"\n",
        "def countArticles(a):\n",
        "  string = a.upper().split()\n",
        "  articles = [\"A\", \"AN\", \"THE\"]\n",
        "  return len(list(filter(lambda x : x in articles, string)))\n",
        "countArticles(test)"
      ],
      "execution_count": null,
      "outputs": [
        {
          "output_type": "execute_result",
          "data": {
            "text/plain": [
              "3"
            ]
          },
          "metadata": {},
          "execution_count": 79
        }
      ]
    },
    {
      "cell_type": "markdown",
      "metadata": {
        "id": "kenhTAY4VRQh"
      },
      "source": [
        "<B>Problem 7: List of Colors</B><BR>\n",
        "Write a function that takes as input a sequence of words and then produces as output a list of words that are colors.  You  may assume that a color will not appear more than once in the input.  You must be able to recognize black, brown, blue, red, yellow, orange, purple, green, gray, and pink. e.g. \"The red fox jumped over the brown log and into the blue sky\" produces red, brown, blue."
      ]
    },
    {
      "cell_type": "code",
      "metadata": {
        "id": "WySv1O-sWSpk",
        "outputId": "53ee5cfe-a11c-41b2-8ff2-f8137a8c0441",
        "colab": {
          "base_uri": "https://localhost:8080/"
        }
      },
      "source": [
        "test = \"The red fox jumped over the brown log and into the blue sky\"\n",
        "def extractColors(a):\n",
        "  string = a.upper().split()\n",
        "  colors = [\"BLACK\",\"BROWN\",\"BLUE\",\"RED\",\"YELLOW\",\"ORANGE\",\"PURPLE\",\"GREEN\",\"GRAY\",\"PINK\"]\n",
        "  return list(filter(lambda x : x in colors, string))\n",
        "extractColors(test)"
      ],
      "execution_count": null,
      "outputs": [
        {
          "output_type": "execute_result",
          "data": {
            "text/plain": [
              "['RED', 'BROWN', 'BLUE']"
            ]
          },
          "metadata": {},
          "execution_count": 78
        }
      ]
    },
    {
      "cell_type": "markdown",
      "metadata": {
        "id": "G1uTn99yWS7W"
      },
      "source": [
        "<B>Problem 8: List of Positives</B><BR>\n",
        "Write a function that takes as input a sequence of numbers and then produces as output a list of numbers that are positive, e.g. [1,-2,-3,4,5,-6,7,0,2] produces [1,4,5,7,2]"
      ]
    },
    {
      "cell_type": "code",
      "metadata": {
        "id": "ykc6z80IXXf1",
        "outputId": "f135b84c-2136-436a-ef7f-f3d81977f80e",
        "colab": {
          "base_uri": "https://localhost:8080/"
        }
      },
      "source": [
        "test = [1,-2,-3,4,5,-6,7,0,2]\n",
        "def extractPositives(a):\n",
        "  return list(filter(lambda x : x >= 0, a))\n",
        "extractPositives(test)"
      ],
      "execution_count": null,
      "outputs": [
        {
          "output_type": "execute_result",
          "data": {
            "text/plain": [
              "[1, 4, 5, 7, 0, 2]"
            ]
          },
          "metadata": {},
          "execution_count": 77
        }
      ]
    },
    {
      "cell_type": "markdown",
      "metadata": {
        "id": "_aCdHKR7XX-U"
      },
      "source": [
        "<B>Problem 9: First n Squares</B><BR>\n",
        "Write a function that takes as input an integer  n and returns a sequence of the first n square numbers, e.g. 5 produces 1,4,9,16,25.\n"
      ]
    },
    {
      "cell_type": "code",
      "metadata": {
        "id": "0cZbXjDLX54G",
        "outputId": "3517d78e-4137-44a4-a2fe-05c964bab026",
        "colab": {
          "base_uri": "https://localhost:8080/"
        }
      },
      "source": [
        "def firstNSquares(n):\n",
        "  return list(map(lambda x : x**2, range(1,n+1,1)))\n",
        "firstNSquares(5)"
      ],
      "execution_count": null,
      "outputs": [
        {
          "output_type": "execute_result",
          "data": {
            "text/plain": [
              "[1, 4, 9, 16, 25]"
            ]
          },
          "metadata": {},
          "execution_count": 84
        }
      ]
    },
    {
      "cell_type": "markdown",
      "metadata": {
        "id": "4MFGOuxcX6Qv"
      },
      "source": [
        "<B>Problem 10: Sum or Product Passed as a Procedure</B><BR>\n",
        "Write a function that takes as input a sequence of numbers and a procedure. Then apply the procedure to the list of numbers.  At a minimum, you must be able to find the sum of the list of numbers and the product of the list of numbers.   \n",
        "\n",
        "<B>CLARIFICATION::</B><BR>\n",
        "I am asking you to pass a procedure similar to how it is done here:\n",
        "\n",
        "https://www.geeksforgeeks.org/passing-function-as-an-argument-in-python/\n",
        "\n",
        " with func being passed as an argument/parameter to greet and func can be either shout or whisper. \n",
        "\n",
        "In the case of problem 10, you need to be able to pass something like add or multiply(which you may or may not need to define) as a parameter in the same way that shout or whisper can be passed as a parameter. "
      ]
    },
    {
      "cell_type": "code",
      "metadata": {
        "id": "58i5O9dgYTvL",
        "outputId": "e86436c8-d88f-4594-c8a2-5e945e988f32",
        "colab": {
          "base_uri": "https://localhost:8080/"
        }
      },
      "source": [
        "from functools import reduce\n",
        "\n",
        "def doSum(a):\n",
        "  return reduce(lambda x, y: x + y, a)\n",
        "  \n",
        "def doProd(a):\n",
        "  return reduce(lambda x, y: x * y, a)\n",
        "  \n",
        "def doMathStuff(a, func): \n",
        "    return func(a)\n",
        "  \n",
        "test = [1,2,3,4,5]\n",
        "print(doMathStuff(test,doSum)) \n",
        "print(doMathStuff(test,doProd)) "
      ],
      "execution_count": null,
      "outputs": [
        {
          "output_type": "stream",
          "name": "stdout",
          "text": [
            "15\n",
            "120\n"
          ]
        }
      ]
    }
  ]
}