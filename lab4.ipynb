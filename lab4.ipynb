{
  "nbformat": 4,
  "nbformat_minor": 0,
  "metadata": {
    "colab": {
      "name": "lab4.ipynb",
      "provenance": [],
      "collapsed_sections": []
    },
    "kernelspec": {
      "name": "python3",
      "display_name": "Python 3"
    }
  },
  "cells": [
    {
      "cell_type": "markdown",
      "metadata": {
        "id": "bRw3wXNOwqiv"
      },
      "source": [
        "<B>Preface</B><BR>\n",
        "One important part of machine learning algorithms is learning parameters to graphical models.  One algorithm to learn parameters is the EM algorithm that we discussed in class last week.  This week, your lab is to implement the EM algorithm for the coin flipping problem in the tutorial that we discussed last week.  \n",
        "<P>\n",
        "<B>Part 1: The E (expectation) step   </B><BR>\n",
        "Implement the E step of the EM algorithm.  Also create a method for the algorithm in your python notebook.  This should take approximately a dozen lines of code.  To make your life a little easier, I have given you some starter code with the data from the coin flipping tutorial below. \n",
        "<p>\n",
        " \n"
      ]
    },
    {
      "cell_type": "code",
      "metadata": {
        "id": "UnwTy9W3n5km"
      },
      "source": [
        "#------------------------------------------------------------------------------#\n",
        "# This code was written for lab 4 of CST 475,          © Justin Boehnen 2022             \n",
        "# taught at Oregon Tech by Prof. Cecily Heiner\n",
        "#------------------------------------------------------------------------------#\n",
        "import numpy as np\n",
        "import random\n",
        "coins=['B','A','A','B','A']\n",
        "data=[['H','T','T','T','H','H','T','H','T','H'], ['H','H','H','H','T','H','H','H','H','H'],['H','T','H','H','H','H','H','T','H','H'],['H','T','H','T','T','T','H','H','T','T'],['T','H','H','H','T','H','H','H','T','H']]\n",
        "likelihood=[[0,0],[0,0],[0,0],[0,0],[0,0]]\n",
        "dataSides=[[5,5],[9,1],[8,2],[4,6],[7,3]]\n",
        "oldThetaA=2.0\n",
        "oldThetaB=2.0\n",
        "thetaA=0.99\n",
        "thetaB=0.01\n",
        "epochs=5\n",
        "\n",
        "def initialize():\n",
        "  global thetaA\n",
        "  global thetaB\n",
        "  thetaA = random.random()\n",
        "  thetaB = random.random()\n",
        "\n",
        "def update_theta(totals):\n",
        "  global thetaA\n",
        "  global thetaB\n",
        "  global oldThetaA\n",
        "  global oldThetaB\n",
        "  oldThetaA = thetaA\n",
        "  oldThetaB = thetaB\n",
        "  thetaA = totals[0]/(totals[0]+totals[1])\n",
        "  thetaB = totals[2]/(totals[2]+totals[3])\n",
        "\n",
        "def norm_binom(round):\n",
        "  # calculate random distribution\n",
        "  num_heads = round.count(\"H\")\n",
        "  rand_dist_a = pow(thetaA, num_heads) * pow(1-thetaA, 10-num_heads)\n",
        "  rand_dist_b = pow(thetaB, num_heads) * pow(1-thetaB, 10-num_heads)\n",
        "  # normalize\n",
        "  denom = rand_dist_a + rand_dist_b\n",
        "  norm_a = rand_dist_a / denom\n",
        "  norm_b = rand_dist_b / denom\n",
        "  return norm_a, norm_b\n",
        "\n",
        "def expected_heads_and_tails(round, norm_dist):\n",
        "  num_heads = round.count(\"H\")\n",
        "  num_tails = 10 - num_heads\n",
        "  heads = norm_dist * num_heads\n",
        "  tails = norm_dist * num_tails\n",
        "  return heads, tails\n",
        "\n",
        "def e_step():\n",
        "  heads_a = 0\n",
        "  tails_a = 0\n",
        "  heads_b = 0\n",
        "  tails_b = 0\n",
        "  for round in data:\n",
        "    norm_a, norm_b = norm_binom(round)\n",
        "    ex_a = expected_heads_and_tails(round, norm_a)\n",
        "    ex_b = expected_heads_and_tails(round, norm_b)\n",
        "    heads_a += ex_a[0]\n",
        "    tails_a += ex_a[1]\n",
        "    heads_b += ex_b[0]\n",
        "    tails_b += ex_b[1]\n",
        "  return heads_a, tails_a, heads_b, tails_b"
      ],
      "execution_count": null,
      "outputs": []
    },
    {
      "cell_type": "markdown",
      "metadata": {
        "id": "c-MpYoCZ72mM"
      },
      "source": [
        " <B>Part 2:The M (maximization) step</B><BR>\n",
        "Extend the method you began writing in step 1 with the M step of the EM algorithm.  This should also take approximately a dozen lines of code.  "
      ]
    },
    {
      "cell_type": "code",
      "source": [
        "def m_step():\n",
        "  for i in range(epochs):\n",
        "    update_theta(e_step())\n",
        "    print(f'[{i}][theta values]: A: {thetaA} B: {thetaB}')\n",
        "\n",
        "#m_step()"
      ],
      "metadata": {
        "id": "zmWq-KtWVm_e"
      },
      "execution_count": null,
      "outputs": []
    },
    {
      "cell_type": "markdown",
      "metadata": {
        "id": "ocQW7qtm8J6Y"
      },
      "source": [
        " <B>Part 3: Epochs to Convergence</B><BR>\n",
        "Add some variables to track how much thetaA and thetaB change with each epoch and how many epochs are necessary for them to converge to the extent that the change is <=.01 in the epoch.  How many epochs do you need?<p>\n",
        "Then try randomly setting thetaA and thetaB and run until convergence at least 5 different times.  How many epochs do you need?\n",
        "  "
      ]
    },
    {
      "cell_type": "code",
      "source": [
        "def run_until_convergence():\n",
        "  print(f'INITIAL: A: {thetaA} B: {thetaB}')\n",
        "  epoch = 0\n",
        "  while((abs(oldThetaA - thetaA) > 0.01) or (abs(oldThetaB - thetaB) > 0.01)):\n",
        "    #print(thetaA, oldThetaA, theta_diff_a)\n",
        "    epoch += 1\n",
        "    update_theta(e_step())\n",
        "    print_theta_change(epoch)\n",
        "  print(f'Convergence in {epoch} epochs')\n",
        "\n",
        "def print_theta_change(epoch):\n",
        "  print(f'[{epoch}][theta change] A: {abs(oldThetaA - thetaA)} B: {abs(oldThetaB - thetaB)}')\n",
        "\n",
        "initialize()\n",
        "run_until_convergence()"
      ],
      "metadata": {
        "colab": {
          "base_uri": "https://localhost:8080/"
        },
        "id": "5z-ZuRjZappE",
        "outputId": "275f81b8-b6e9-46ad-981e-e8de3b1f1b0f"
      },
      "execution_count": null,
      "outputs": [
        {
          "output_type": "stream",
          "name": "stdout",
          "text": [
            "INITIAL: A: 0.19989060944106585 B: 0.4909660427086644\n",
            "[1][theta change] A: 0.232217637802771 B: 0.1888176560637611\n",
            "[2][theta change] A: 0.06183326057238747 B: 0.07177732632070011\n",
            "[3][theta change] A: 0.01708435698000349 B: 0.027544996261947174\n",
            "[4][theta change] A: 0.005311622985305853 B: 0.010842253686757508\n",
            "[5][theta change] A: 0.0019247819999881344 B: 0.004214959642942939\n",
            "Convergence in 5 epochs\n"
          ]
        }
      ]
    }
  ]
}